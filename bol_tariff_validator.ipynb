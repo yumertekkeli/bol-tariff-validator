{
 "cells": [
  {
   "cell_type": "markdown",
   "metadata": {},
   "source": [
    "# **BOL Product Dimension Validator**"
   ]
  },
  {
   "cell_type": "markdown",
   "metadata": {},
   "source": [
    "Purpose of this notebook is to express solutions and validations of the shipment costs and their tariff sizes for multi platform e-commerce businesses."
   ]
  },
  {
   "cell_type": "markdown",
   "metadata": {},
   "source": [
    "**WORK CASE:**\n",
    "Consider you are selling products in two well known e-commerce platforms Amazon and Bol. Both platforms have different tariff for several products according to their product and package sizes for shipments. To be able to validate that your business is getting cut correct tariff size and products are evaluated with correct sizes in the platforms. This approach is a basic automation approach with given inputs of the invoices and the products, following months and validation for financial departments of the businesses can be performed with couple clicks instead of huge sized excel files and manual validation methods. Instead of days long workload can be performed each month with couple clicks ahead! "
   ]
  },
  {
   "cell_type": "markdown",
   "metadata": {},
   "source": [
    "**Requirements**\n"
   ]
  },
  {
   "cell_type": "code",
   "execution_count": 1,
   "metadata": {},
   "outputs": [
    {
     "name": "stdout",
     "output_type": "stream",
     "text": [
      "Requirement already satisfied: pickleshare==0.7.5 in c:\\users\\omer\\anaconda3\\lib\\site-packages (from -r requirements.txt (line 1)) (0.7.5)\n",
      "Requirement already satisfied: numpy==1.26.4 in c:\\users\\omer\\anaconda3\\lib\\site-packages (from -r requirements.txt (line 2)) (1.26.4)\n",
      "Requirement already satisfied: pandas==2.2.2 in c:\\users\\omer\\anaconda3\\lib\\site-packages (from -r requirements.txt (line 3)) (2.2.2)\n",
      "Collecting python-dateutil>=2.8.2 (from pandas==2.2.2->-r requirements.txt (line 3))\n",
      "  Using cached python_dateutil-2.9.0.post0-py2.py3-none-any.whl.metadata (8.4 kB)\n",
      "Requirement already satisfied: pytz>=2020.1 in c:\\users\\omer\\anaconda3\\lib\\site-packages (from pandas==2.2.2->-r requirements.txt (line 3)) (2024.1)\n",
      "Requirement already satisfied: tzdata>=2022.7 in c:\\users\\omer\\anaconda3\\lib\\site-packages (from pandas==2.2.2->-r requirements.txt (line 3)) (2023.3)\n",
      "Requirement already satisfied: six>=1.5 in c:\\users\\omer\\anaconda3\\lib\\site-packages (from python-dateutil>=2.8.2->pandas==2.2.2->-r requirements.txt (line 3)) (1.16.0)\n",
      "Using cached python_dateutil-2.9.0.post0-py2.py3-none-any.whl (229 kB)\n",
      "Installing collected packages: python-dateutil\n",
      "  Attempting uninstall: python-dateutil\n",
      "    Found existing installation: python-dateutil 2.9.0.post0\n",
      "    Uninstalling python-dateutil-2.9.0.post0:\n",
      "      Successfully uninstalled python-dateutil-2.9.0.post0\n",
      "Successfully installed python-dateutil-2.9.0.post0\n"
     ]
    },
    {
     "name": "stderr",
     "output_type": "stream",
     "text": [
      "DEPRECATION: Loading egg at c:\\users\\omer\\anaconda3\\lib\\site-packages\\nose-1.3.7-py3.12.egg is deprecated. pip 24.3 will enforce this behaviour change. A possible replacement is to use pip for package installation.. Discussion can be found at https://github.com/pypa/pip/issues/12330\n",
      "DEPRECATION: Loading egg at c:\\users\\omer\\anaconda3\\lib\\site-packages\\pycausality-1.2.0-py3.12.egg is deprecated. pip 24.3 will enforce this behaviour change. A possible replacement is to use pip for package installation.. Discussion can be found at https://github.com/pypa/pip/issues/12330\n",
      "DEPRECATION: Loading egg at c:\\users\\omer\\anaconda3\\lib\\site-packages\\python_dateutil-2.6.1-py3.12.egg is deprecated. pip 24.3 will enforce this behaviour change. A possible replacement is to use pip for package installation.. Discussion can be found at https://github.com/pypa/pip/issues/12330\n",
      "ERROR: pip's dependency resolver does not currently take into account all the packages that are installed. This behaviour is the source of the following dependency conflicts.\n",
      "pycausality 1.2.0 requires python-dateutil==2.6.1, but you have python-dateutil 2.9.0.post0 which is incompatible.\n"
     ]
    }
   ],
   "source": [
    "!pip install -r requirements.txt"
   ]
  },
  {
   "cell_type": "markdown",
   "metadata": {},
   "source": [
    "**Packages** "
   ]
  },
  {
   "cell_type": "code",
   "execution_count": 21,
   "metadata": {},
   "outputs": [],
   "source": [
    "import os\n",
    "import pandas as pd \n",
    "from datetime import datetime,date\n",
    "import numpy as np "
   ]
  },
  {
   "cell_type": "markdown",
   "metadata": {},
   "source": [
    "**Data**"
   ]
  },
  {
   "cell_type": "markdown",
   "metadata": {},
   "source": [
    "Consider your business have a report for the collection of products with their dimensions for variables Length, Width, Height and Unique identifier code."
   ]
  },
  {
   "cell_type": "code",
   "execution_count": 3,
   "metadata": {},
   "outputs": [
    {
     "data": {
      "text/html": [
       "<div>\n",
       "<style scoped>\n",
       "    .dataframe tbody tr th:only-of-type {\n",
       "        vertical-align: middle;\n",
       "    }\n",
       "\n",
       "    .dataframe tbody tr th {\n",
       "        vertical-align: top;\n",
       "    }\n",
       "\n",
       "    .dataframe thead th {\n",
       "        text-align: right;\n",
       "    }\n",
       "</style>\n",
       "<table border=\"1\" class=\"dataframe\">\n",
       "  <thead>\n",
       "    <tr style=\"text-align: right;\">\n",
       "      <th></th>\n",
       "      <th>Productidentificatie</th>\n",
       "      <th>Length</th>\n",
       "      <th>Width</th>\n",
       "      <th>Height</th>\n",
       "    </tr>\n",
       "  </thead>\n",
       "  <tbody>\n",
       "    <tr>\n",
       "      <th>0</th>\n",
       "      <td>8712345678901</td>\n",
       "      <td>19.6</td>\n",
       "      <td>15.6</td>\n",
       "      <td>11.6</td>\n",
       "    </tr>\n",
       "    <tr>\n",
       "      <th>1</th>\n",
       "      <td>8712345678902</td>\n",
       "      <td>61.7</td>\n",
       "      <td>27.8</td>\n",
       "      <td>20.6</td>\n",
       "    </tr>\n",
       "    <tr>\n",
       "      <th>2</th>\n",
       "      <td>8712345678903</td>\n",
       "      <td>31.8</td>\n",
       "      <td>10.5</td>\n",
       "      <td>10.1</td>\n",
       "    </tr>\n",
       "    <tr>\n",
       "      <th>3</th>\n",
       "      <td>8712345678904</td>\n",
       "      <td>47.0</td>\n",
       "      <td>14.2</td>\n",
       "      <td>8.8</td>\n",
       "    </tr>\n",
       "    <tr>\n",
       "      <th>4</th>\n",
       "      <td>8712345678905</td>\n",
       "      <td>12.7</td>\n",
       "      <td>12.7</td>\n",
       "      <td>6.5</td>\n",
       "    </tr>\n",
       "  </tbody>\n",
       "</table>\n",
       "</div>"
      ],
      "text/plain": [
       "   Productidentificatie  Length  Width  Height\n",
       "0         8712345678901    19.6   15.6    11.6\n",
       "1         8712345678902    61.7   27.8    20.6\n",
       "2         8712345678903    31.8   10.5    10.1\n",
       "3         8712345678904    47.0   14.2     8.8\n",
       "4         8712345678905    12.7   12.7     6.5"
      ]
     },
     "execution_count": 3,
     "metadata": {},
     "output_type": "execute_result"
    }
   ],
   "source": [
    "dim_df = pd.read_excel('product_dimensions.xlsx')\n",
    "dim_df.head()"
   ]
  },
  {
   "cell_type": "markdown",
   "metadata": {},
   "source": [
    "Further the collection of invoice reports provided from platforms with respect to tarif groups costs, location, unique identifiers of the products."
   ]
  },
  {
   "cell_type": "code",
   "execution_count": 4,
   "metadata": {},
   "outputs": [
    {
     "data": {
      "text/html": [
       "<div>\n",
       "<style scoped>\n",
       "    .dataframe tbody tr th:only-of-type {\n",
       "        vertical-align: middle;\n",
       "    }\n",
       "\n",
       "    .dataframe tbody tr th {\n",
       "        vertical-align: top;\n",
       "    }\n",
       "\n",
       "    .dataframe thead th {\n",
       "        text-align: right;\n",
       "    }\n",
       "</style>\n",
       "<table border=\"1\" class=\"dataframe\">\n",
       "  <thead>\n",
       "    <tr style=\"text-align: right;\">\n",
       "      <th></th>\n",
       "      <th>Type</th>\n",
       "      <th>Type productidentificatie</th>\n",
       "      <th>Productidentificatie</th>\n",
       "      <th>Artikelomschrijving</th>\n",
       "      <th>Datum</th>\n",
       "      <th>Bestelnummer</th>\n",
       "      <th>Aantal</th>\n",
       "      <th>Tarief-\\ngroep</th>\n",
       "      <th>Tarief</th>\n",
       "      <th>Bedrag</th>\n",
       "      <th>BTW %</th>\n",
       "      <th>Btw-bedrag</th>\n",
       "      <th>Bedrag\\n(incl. BTW)</th>\n",
       "      <th>Land van verzending</th>\n",
       "      <th>Reden</th>\n",
       "      <th>Opmerking</th>\n",
       "    </tr>\n",
       "  </thead>\n",
       "  <tbody>\n",
       "    <tr>\n",
       "      <th>0</th>\n",
       "      <td>Pick&amp;pack kosten</td>\n",
       "      <td>EAN</td>\n",
       "      <td>8712345678901</td>\n",
       "      <td>product 1</td>\n",
       "      <td>2024-08-01</td>\n",
       "      <td>1</td>\n",
       "      <td>1</td>\n",
       "      <td>M</td>\n",
       "      <td>2.19</td>\n",
       "      <td>2.19</td>\n",
       "      <td>21</td>\n",
       "      <td>0.4599</td>\n",
       "      <td>2.6499</td>\n",
       "      <td>NL</td>\n",
       "      <td>NaN</td>\n",
       "      <td>NaN</td>\n",
       "    </tr>\n",
       "    <tr>\n",
       "      <th>1</th>\n",
       "      <td>Pick&amp;pack kosten</td>\n",
       "      <td>EAN</td>\n",
       "      <td>8712345678902</td>\n",
       "      <td>product 2</td>\n",
       "      <td>2024-08-01</td>\n",
       "      <td>2</td>\n",
       "      <td>1</td>\n",
       "      <td>L</td>\n",
       "      <td>2.07</td>\n",
       "      <td>2.07</td>\n",
       "      <td>21</td>\n",
       "      <td>0.4347</td>\n",
       "      <td>2.5047</td>\n",
       "      <td>NL</td>\n",
       "      <td>NaN</td>\n",
       "      <td>NaN</td>\n",
       "    </tr>\n",
       "    <tr>\n",
       "      <th>2</th>\n",
       "      <td>Pick&amp;pack kosten</td>\n",
       "      <td>EAN</td>\n",
       "      <td>8712345678903</td>\n",
       "      <td>product 3</td>\n",
       "      <td>2024-08-01</td>\n",
       "      <td>3</td>\n",
       "      <td>1</td>\n",
       "      <td>S</td>\n",
       "      <td>1.65</td>\n",
       "      <td>1.65</td>\n",
       "      <td>21</td>\n",
       "      <td>0.3465</td>\n",
       "      <td>1.9965</td>\n",
       "      <td>NL</td>\n",
       "      <td>NaN</td>\n",
       "      <td>NaN</td>\n",
       "    </tr>\n",
       "    <tr>\n",
       "      <th>3</th>\n",
       "      <td>Pick&amp;pack kosten</td>\n",
       "      <td>EAN</td>\n",
       "      <td>8712345678904</td>\n",
       "      <td>product 4</td>\n",
       "      <td>2024-08-01</td>\n",
       "      <td>4</td>\n",
       "      <td>1</td>\n",
       "      <td>M</td>\n",
       "      <td>2.07</td>\n",
       "      <td>2.07</td>\n",
       "      <td>21</td>\n",
       "      <td>0.4347</td>\n",
       "      <td>2.5047</td>\n",
       "      <td>NL</td>\n",
       "      <td>NaN</td>\n",
       "      <td>NaN</td>\n",
       "    </tr>\n",
       "    <tr>\n",
       "      <th>4</th>\n",
       "      <td>Pick&amp;pack kosten</td>\n",
       "      <td>EAN</td>\n",
       "      <td>8712345678905</td>\n",
       "      <td>product 5</td>\n",
       "      <td>2024-08-01</td>\n",
       "      <td>5</td>\n",
       "      <td>1</td>\n",
       "      <td>M</td>\n",
       "      <td>2.19</td>\n",
       "      <td>2.19</td>\n",
       "      <td>21</td>\n",
       "      <td>0.4599</td>\n",
       "      <td>2.6499</td>\n",
       "      <td>NL</td>\n",
       "      <td>NaN</td>\n",
       "      <td>NaN</td>\n",
       "    </tr>\n",
       "  </tbody>\n",
       "</table>\n",
       "</div>"
      ],
      "text/plain": [
       "               Type Type productidentificatie  Productidentificatie  \\\n",
       "0  Pick&pack kosten                       EAN         8712345678901   \n",
       "1  Pick&pack kosten                       EAN         8712345678902   \n",
       "2  Pick&pack kosten                       EAN         8712345678903   \n",
       "3  Pick&pack kosten                       EAN         8712345678904   \n",
       "4  Pick&pack kosten                       EAN         8712345678905   \n",
       "\n",
       "  Artikelomschrijving      Datum  Bestelnummer  Aantal Tarief-\\ngroep  Tarief  \\\n",
       "0           product 1 2024-08-01             1       1              M    2.19   \n",
       "1           product 2 2024-08-01             2       1              L    2.07   \n",
       "2           product 3 2024-08-01             3       1              S    1.65   \n",
       "3           product 4 2024-08-01             4       1              M    2.07   \n",
       "4           product 5 2024-08-01             5       1              M    2.19   \n",
       "\n",
       "   Bedrag  BTW %  Btw-bedrag  Bedrag\\n(incl. BTW) Land van verzending  Reden  \\\n",
       "0    2.19     21      0.4599               2.6499                  NL    NaN   \n",
       "1    2.07     21      0.4347               2.5047                  NL    NaN   \n",
       "2    1.65     21      0.3465               1.9965                  NL    NaN   \n",
       "3    2.07     21      0.4347               2.5047                  NL    NaN   \n",
       "4    2.19     21      0.4599               2.6499                  NL    NaN   \n",
       "\n",
       "   Opmerking  \n",
       "0        NaN  \n",
       "1        NaN  \n",
       "2        NaN  \n",
       "3        NaN  \n",
       "4        NaN  "
      ]
     },
     "execution_count": 4,
     "metadata": {},
     "output_type": "execute_result"
    }
   ],
   "source": [
    "df = pd.read_excel('example_data.xlsx')\n",
    "df.head()"
   ]
  },
  {
   "cell_type": "markdown",
   "metadata": {},
   "source": [
    "**Bol.com Dimension Tariff Validator Function**"
   ]
  },
  {
   "cell_type": "markdown",
   "metadata": {},
   "source": [
    "Function below performs operation over two dataframes, first the one user provides with their actual packaging sizes for the products and second one is the invoice report from the platform. Function first evaluates your product sizes into tariff size provided from the Bol.com labels them accordingly and stores. Once this step is performed goes through the invoice reports and runs through all entries to compare products with respect to their identifier codes and validates if the size is labeled correct or not. Following steps for the output will be if the product tariff size is labeled wrong extracts the entry in the invoice report and stores in a list, another output is the correct tarif size for the products. With this application both businesses can find the mistakes occured in the system and easily extract which product labeled wrong and fix the price gaps in the invoices to ensure a safe and legit transactions are ongoing. "
   ]
  },
  {
   "cell_type": "code",
   "execution_count": 5,
   "metadata": {},
   "outputs": [],
   "source": [
    "def bol_dim_validate(df,df2):\n",
    "\n",
    "    df2['tarief_size'] = ''\n",
    "    wrong_dimensions = []\n",
    "\n",
    "    for i in range(0,len(df2['Productidentificatie'])):\n",
    "        if (df2['Length'].iloc[i] < 23.5) & (df2['Width'].iloc[i] < 16.5) & (df2['Height'].iloc[i] < 3):\n",
    "            df2.loc[i,'tarief_size'] = '3XS'\n",
    "        elif (df2['Length'].iloc[i] < 37.5) & (df2['Width'].iloc[i] < 26) & (df2['Height'].iloc[i] < 3):\n",
    "            df2.loc[i,'tarief_size'] = 'XXS'\n",
    "        elif (df2['Length'].iloc[i] < 37.5) & (df2['Width'].iloc[i] < 26) & (df2['Height'].iloc[i] < 5):\n",
    "            df2.loc[i,'tarief_size'] = 'XS'\n",
    "        elif (df2['Length'].iloc[i] < 45) & (df2['Width'].iloc[i] < 30) & (df2['Height'].iloc[i] < 8):\n",
    "            df2.loc[i,'tarief_size'] = 'S'\n",
    "        elif (df2['Length'].iloc[i] < 55) & (df2['Width'].iloc[i] < 35) & (df2['Height'].iloc[i] < 20):\n",
    "            df2.loc[i,'tarief_size'] = 'M'\n",
    "        elif (df2['Length'].iloc[i] < 72) & (df2['Width'].iloc[i] < 50) & (df2['Height'].iloc[i] < 41):\n",
    "            df2.loc[i,'tarief_size'] = 'L'\n",
    "        else:\n",
    "            df2.loc[i,'tarief_size'] = 'XL'\n",
    "\n",
    "    for id in df['Productidentificatie'].unique():\n",
    "        id_df = df[df['Productidentificatie'] == id]\n",
    "\n",
    "        size_df = df2[df2['Productidentificatie'] == id]\n",
    "\n",
    "        # Convert unique values to sets for comparison\n",
    "        tariefgroep_unique = id_df['Tarief-\\ngroep'].unique()\n",
    "        tariefsize_unique = size_df['tarief_size'].unique()\n",
    "\n",
    "        if (len(tariefgroep_unique) == len(tariefsize_unique)) and (tariefgroep_unique != tariefsize_unique):\n",
    "            wrong_dimensions.append(id_df)\n",
    "        else:\n",
    "            for i in range(0,len(tariefgroep_unique)):\n",
    "                if tariefgroep_unique[i] != tariefsize_unique[0]:\n",
    "                    wrong_dimensions.append(id_df[id_df['Tarief-\\ngroep'] == tariefgroep_unique[i]])\n",
    "\n",
    "    wrong_dimensions\n",
    "\n",
    "    wrong_df = pd.concat(wrong_dimensions, ignore_index=True)\n",
    "\n",
    "    size_catalogue = df2.copy()\n",
    "\n",
    "    trimmed_wrong = wrong_df[['Productidentificatie','Tarief-\\ngroep']]\n",
    "    unique_products_tarief = trimmed_wrong[['Productidentificatie', 'Tarief-\\ngroep']].drop_duplicates(subset='Productidentificatie').reset_index(drop = True)\n",
    "\n",
    "    comparison_merged =pd.merge(size_catalogue, unique_products_tarief, on= \"Productidentificatie\", how= \"inner\")\n",
    "    comparison_merged.rename(columns={'Tarief-\\ngroep': 'bol.com_tarief'}, inplace=True)\n",
    "\n",
    "\n",
    "    return wrong_df, comparison_merged\n"
   ]
  },
  {
   "cell_type": "markdown",
   "metadata": {},
   "source": [
    "An example case: "
   ]
  },
  {
   "cell_type": "code",
   "execution_count": 6,
   "metadata": {},
   "outputs": [
    {
     "data": {
      "text/html": [
       "<div>\n",
       "<style scoped>\n",
       "    .dataframe tbody tr th:only-of-type {\n",
       "        vertical-align: middle;\n",
       "    }\n",
       "\n",
       "    .dataframe tbody tr th {\n",
       "        vertical-align: top;\n",
       "    }\n",
       "\n",
       "    .dataframe thead th {\n",
       "        text-align: right;\n",
       "    }\n",
       "</style>\n",
       "<table border=\"1\" class=\"dataframe\">\n",
       "  <thead>\n",
       "    <tr style=\"text-align: right;\">\n",
       "      <th></th>\n",
       "      <th>Productidentificatie</th>\n",
       "      <th>Length</th>\n",
       "      <th>Width</th>\n",
       "      <th>Height</th>\n",
       "    </tr>\n",
       "  </thead>\n",
       "  <tbody>\n",
       "    <tr>\n",
       "      <th>0</th>\n",
       "      <td>8712345678901</td>\n",
       "      <td>19.6</td>\n",
       "      <td>15.6</td>\n",
       "      <td>11.6</td>\n",
       "    </tr>\n",
       "    <tr>\n",
       "      <th>1</th>\n",
       "      <td>8712345678902</td>\n",
       "      <td>61.7</td>\n",
       "      <td>27.8</td>\n",
       "      <td>20.6</td>\n",
       "    </tr>\n",
       "    <tr>\n",
       "      <th>2</th>\n",
       "      <td>8712345678903</td>\n",
       "      <td>31.8</td>\n",
       "      <td>10.5</td>\n",
       "      <td>10.1</td>\n",
       "    </tr>\n",
       "    <tr>\n",
       "      <th>3</th>\n",
       "      <td>8712345678904</td>\n",
       "      <td>47.0</td>\n",
       "      <td>14.2</td>\n",
       "      <td>8.8</td>\n",
       "    </tr>\n",
       "    <tr>\n",
       "      <th>4</th>\n",
       "      <td>8712345678905</td>\n",
       "      <td>12.7</td>\n",
       "      <td>12.7</td>\n",
       "      <td>6.5</td>\n",
       "    </tr>\n",
       "  </tbody>\n",
       "</table>\n",
       "</div>"
      ],
      "text/plain": [
       "   Productidentificatie  Length  Width  Height\n",
       "0         8712345678901    19.6   15.6    11.6\n",
       "1         8712345678902    61.7   27.8    20.6\n",
       "2         8712345678903    31.8   10.5    10.1\n",
       "3         8712345678904    47.0   14.2     8.8\n",
       "4         8712345678905    12.7   12.7     6.5"
      ]
     },
     "execution_count": 6,
     "metadata": {},
     "output_type": "execute_result"
    }
   ],
   "source": [
    "# Uploading the product\n",
    "dim_df = pd.read_excel('product_dimensions.xlsx')\n",
    "dim_df.head()"
   ]
  },
  {
   "cell_type": "code",
   "execution_count": 27,
   "metadata": {},
   "outputs": [
    {
     "ename": "ValueError",
     "evalue": "too many values to unpack (expected 2)",
     "output_type": "error",
     "traceback": [
      "\u001b[1;31m---------------------------------------------------------------------------\u001b[0m",
      "\u001b[1;31mValueError\u001b[0m                                Traceback (most recent call last)",
      "Cell \u001b[1;32mIn[27], line 2\u001b[0m\n\u001b[0;32m      1\u001b[0m \u001b[38;5;66;03m# Running the function defined \u001b[39;00m\n\u001b[1;32m----> 2\u001b[0m wrong_dimensions, tarif_sizes_comparison \u001b[38;5;241m=\u001b[39m bol_dim_validate(df,dim_df)\n",
      "\u001b[1;31mValueError\u001b[0m: too many values to unpack (expected 2)"
     ]
    }
   ],
   "source": [
    "# Running the function defined \n",
    "wrong_dimensions, tarif_sizes_comparison = bol_dim_validate(df,dim_df)\n",
    "\n",
    "live_date = date.today().strftime(\"%d-%m-%Y\") \n",
    "\n",
    "tarif_sizes_comparison.to_excel(f'outputs/bol_comparison_with_product_sizes_{live_date}.xlsx', index=False)\n",
    "wrong_dimensions.to_excel(f'outputs/wrong_dimension_tariff_invoices_{live_date}.xlsx', index=False)"
   ]
  },
  {
   "cell_type": "markdown",
   "metadata": {},
   "source": [
    "Function consists two different outputs for different first one is the wrong invoice table entries with in shape of the voice report and the last one is comparison of which unique identifier products conflict with the wrong sized products from bol.com "
   ]
  }
 ],
 "metadata": {
  "kernelspec": {
   "display_name": "base",
   "language": "python",
   "name": "python3"
  },
  "language_info": {
   "codemirror_mode": {
    "name": "ipython",
    "version": 3
   },
   "file_extension": ".py",
   "mimetype": "text/x-python",
   "name": "python",
   "nbconvert_exporter": "python",
   "pygments_lexer": "ipython3",
   "version": "3.12.4"
  }
 },
 "nbformat": 4,
 "nbformat_minor": 2
}
